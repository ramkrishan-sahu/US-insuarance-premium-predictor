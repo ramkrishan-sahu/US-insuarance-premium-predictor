{
 "cells": [
  {
   "cell_type": "markdown",
   "metadata": {},
   "source": [
    "# How Prudential can use the Mortality Data"
   ]
  },
  {
   "cell_type": "markdown",
   "metadata": {},
   "source": [
    "## Problem statement:\n",
    "### We have to find how Prudential can use the Mortality rate data set of the different states in USA\n"
   ]
  },
  {
   "cell_type": "code",
   "execution_count": 1,
   "metadata": {
    "ExecuteTime": {
     "end_time": "2017-11-23T06:46:18.201427Z",
     "start_time": "2017-11-23T06:46:17.511216Z"
    },
    "collapsed": true
   },
   "outputs": [],
   "source": [
    "from __future__ import absolute_import\n",
    "from __future__ import division\n",
    "from __future__ import print_function\n",
    "from __future__ import unicode_literals\n",
    "\n",
    "import pandas as pd\n",
    "import numpy as np\n",
    "\n",
    "# import Image\n",
    "import matplotlib.pyplot as plt\n",
    "import seaborn as sns\n",
    "%matplotlib inline\n",
    "\n",
    "from sklearn import linear_model\n",
    "from sklearn.preprocessing import PolynomialFeatures"
   ]
  },
  {
   "cell_type": "code",
   "execution_count": 2,
   "metadata": {
    "ExecuteTime": {
     "end_time": "2017-11-23T06:46:18.212764Z",
     "start_time": "2017-11-23T06:46:18.203583Z"
    },
    "collapsed": true
   },
   "outputs": [],
   "source": [
    "mortality_data = pd.read_csv(\"../US-insuarance-premium-predictor/Data/mort.csv\")"
   ]
  },
  {
   "cell_type": "code",
   "execution_count": 3,
   "metadata": {
    "ExecuteTime": {
     "end_time": "2017-11-23T06:46:18.336186Z",
     "start_time": "2017-11-23T06:46:18.215442Z"
    }
   },
   "outputs": [
    {
     "data": {
      "text/html": [
       "<div>\n",
       "<style>\n",
       "    .dataframe thead tr:only-child th {\n",
       "        text-align: right;\n",
       "    }\n",
       "\n",
       "    .dataframe thead th {\n",
       "        text-align: left;\n",
       "    }\n",
       "\n",
       "    .dataframe tbody tr th {\n",
       "        vertical-align: top;\n",
       "    }\n",
       "</style>\n",
       "<table border=\"1\" class=\"dataframe\">\n",
       "  <thead>\n",
       "    <tr style=\"text-align: right;\">\n",
       "      <th></th>\n",
       "      <th>Location</th>\n",
       "      <th>FIPS</th>\n",
       "      <th>Category</th>\n",
       "      <th>% Change in Mortality Rate, 1980-201</th>\n",
       "      <th>1980</th>\n",
       "      <th>1985</th>\n",
       "      <th>1990</th>\n",
       "      <th>1995</th>\n",
       "      <th>2000</th>\n",
       "      <th>2005</th>\n",
       "      <th>2010</th>\n",
       "      <th>2015</th>\n",
       "      <th>2020</th>\n",
       "      <th>2025</th>\n",
       "      <th>Premium</th>\n",
       "    </tr>\n",
       "  </thead>\n",
       "  <tbody>\n",
       "    <tr>\n",
       "      <th>0</th>\n",
       "      <td>Alabama</td>\n",
       "      <td>1</td>\n",
       "      <td>Neonatal disorders</td>\n",
       "      <td>-53.82</td>\n",
       "      <td>11.03</td>\n",
       "      <td>8.51</td>\n",
       "      <td>7.52</td>\n",
       "      <td>6.08</td>\n",
       "      <td>6.21</td>\n",
       "      <td>6.32</td>\n",
       "      <td>5.58</td>\n",
       "      <td>5.10</td>\n",
       "      <td>NaN</td>\n",
       "      <td>NaN</td>\n",
       "      <td>NaN</td>\n",
       "    </tr>\n",
       "    <tr>\n",
       "      <th>1</th>\n",
       "      <td>Alabama</td>\n",
       "      <td>1</td>\n",
       "      <td>HIV/AIDS and tuberculosis</td>\n",
       "      <td>101.52</td>\n",
       "      <td>1.46</td>\n",
       "      <td>2.15</td>\n",
       "      <td>8.03</td>\n",
       "      <td>14.10</td>\n",
       "      <td>5.47</td>\n",
       "      <td>4.67</td>\n",
       "      <td>3.35</td>\n",
       "      <td>2.94</td>\n",
       "      <td>NaN</td>\n",
       "      <td>NaN</td>\n",
       "      <td>NaN</td>\n",
       "    </tr>\n",
       "    <tr>\n",
       "      <th>2</th>\n",
       "      <td>Alabama</td>\n",
       "      <td>1</td>\n",
       "      <td>Musculoskeletal disorders</td>\n",
       "      <td>-1.56</td>\n",
       "      <td>3.26</td>\n",
       "      <td>3.29</td>\n",
       "      <td>3.42</td>\n",
       "      <td>3.67</td>\n",
       "      <td>3.97</td>\n",
       "      <td>3.74</td>\n",
       "      <td>3.27</td>\n",
       "      <td>3.21</td>\n",
       "      <td>NaN</td>\n",
       "      <td>NaN</td>\n",
       "      <td>NaN</td>\n",
       "    </tr>\n",
       "    <tr>\n",
       "      <th>3</th>\n",
       "      <td>Alabama</td>\n",
       "      <td>1</td>\n",
       "      <td>Diabetes, urogenital, blood, and endocrine dis...</td>\n",
       "      <td>22.44</td>\n",
       "      <td>57.83</td>\n",
       "      <td>58.79</td>\n",
       "      <td>61.83</td>\n",
       "      <td>68.46</td>\n",
       "      <td>74.81</td>\n",
       "      <td>76.62</td>\n",
       "      <td>72.34</td>\n",
       "      <td>70.81</td>\n",
       "      <td>NaN</td>\n",
       "      <td>NaN</td>\n",
       "      <td>NaN</td>\n",
       "    </tr>\n",
       "    <tr>\n",
       "      <th>4</th>\n",
       "      <td>Alabama</td>\n",
       "      <td>1</td>\n",
       "      <td>Digestive diseases</td>\n",
       "      <td>-22.56</td>\n",
       "      <td>22.13</td>\n",
       "      <td>21.51</td>\n",
       "      <td>20.58</td>\n",
       "      <td>20.16</td>\n",
       "      <td>19.56</td>\n",
       "      <td>18.75</td>\n",
       "      <td>17.42</td>\n",
       "      <td>17.13</td>\n",
       "      <td>NaN</td>\n",
       "      <td>NaN</td>\n",
       "      <td>NaN</td>\n",
       "    </tr>\n",
       "  </tbody>\n",
       "</table>\n",
       "</div>"
      ],
      "text/plain": [
       "  Location  FIPS                                           Category  \\\n",
       "0  Alabama     1                                 Neonatal disorders   \n",
       "1  Alabama     1                          HIV/AIDS and tuberculosis   \n",
       "2  Alabama     1                          Musculoskeletal disorders   \n",
       "3  Alabama     1  Diabetes, urogenital, blood, and endocrine dis...   \n",
       "4  Alabama     1                                 Digestive diseases   \n",
       "\n",
       "   % Change in Mortality Rate, 1980-201   1980   1985   1990   1995   2000  \\\n",
       "0                                -53.82  11.03   8.51   7.52   6.08   6.21   \n",
       "1                                101.52   1.46   2.15   8.03  14.10   5.47   \n",
       "2                                 -1.56   3.26   3.29   3.42   3.67   3.97   \n",
       "3                                 22.44  57.83  58.79  61.83  68.46  74.81   \n",
       "4                                -22.56  22.13  21.51  20.58  20.16  19.56   \n",
       "\n",
       "    2005   2010   2015  2020  2025  Premium  \n",
       "0   6.32   5.58   5.10   NaN   NaN      NaN  \n",
       "1   4.67   3.35   2.94   NaN   NaN      NaN  \n",
       "2   3.74   3.27   3.21   NaN   NaN      NaN  \n",
       "3  76.62  72.34  70.81   NaN   NaN      NaN  \n",
       "4  18.75  17.42  17.13   NaN   NaN      NaN  "
      ]
     },
     "execution_count": 3,
     "metadata": {},
     "output_type": "execute_result"
    }
   ],
   "source": [
    "mortality_data.head()"
   ]
  },
  {
   "cell_type": "code",
   "execution_count": 4,
   "metadata": {
    "ExecuteTime": {
     "end_time": "2017-11-23T06:46:18.427556Z",
     "start_time": "2017-11-23T06:46:18.337894Z"
    }
   },
   "outputs": [
    {
     "data": {
      "text/html": [
       "<div>\n",
       "<style>\n",
       "    .dataframe thead tr:only-child th {\n",
       "        text-align: right;\n",
       "    }\n",
       "\n",
       "    .dataframe thead th {\n",
       "        text-align: left;\n",
       "    }\n",
       "\n",
       "    .dataframe tbody tr th {\n",
       "        vertical-align: top;\n",
       "    }\n",
       "</style>\n",
       "<table border=\"1\" class=\"dataframe\">\n",
       "  <thead>\n",
       "    <tr style=\"text-align: right;\">\n",
       "      <th></th>\n",
       "      <th>Location</th>\n",
       "      <th>FIPS</th>\n",
       "      <th>Category</th>\n",
       "      <th>% Change in Mortality Rate, 1980-201</th>\n",
       "      <th>1980</th>\n",
       "      <th>1985</th>\n",
       "      <th>1990</th>\n",
       "      <th>1995</th>\n",
       "      <th>2000</th>\n",
       "      <th>2005</th>\n",
       "      <th>2010</th>\n",
       "      <th>2015</th>\n",
       "      <th>2020</th>\n",
       "      <th>2025</th>\n",
       "      <th>Premium</th>\n",
       "    </tr>\n",
       "  </thead>\n",
       "  <tbody>\n",
       "    <tr>\n",
       "      <th>0</th>\n",
       "      <td>Alabama</td>\n",
       "      <td>1</td>\n",
       "      <td>Neonatal disorders</td>\n",
       "      <td>-53.82</td>\n",
       "      <td>11.03</td>\n",
       "      <td>8.51</td>\n",
       "      <td>7.52</td>\n",
       "      <td>6.08</td>\n",
       "      <td>6.21</td>\n",
       "      <td>6.32</td>\n",
       "      <td>5.58</td>\n",
       "      <td>5.10</td>\n",
       "      <td>NaN</td>\n",
       "      <td>NaN</td>\n",
       "      <td>NaN</td>\n",
       "    </tr>\n",
       "    <tr>\n",
       "      <th>1</th>\n",
       "      <td>Alabama</td>\n",
       "      <td>1</td>\n",
       "      <td>HIV/AIDS and tuberculosis</td>\n",
       "      <td>101.52</td>\n",
       "      <td>1.46</td>\n",
       "      <td>2.15</td>\n",
       "      <td>8.03</td>\n",
       "      <td>14.10</td>\n",
       "      <td>5.47</td>\n",
       "      <td>4.67</td>\n",
       "      <td>3.35</td>\n",
       "      <td>2.94</td>\n",
       "      <td>NaN</td>\n",
       "      <td>NaN</td>\n",
       "      <td>NaN</td>\n",
       "    </tr>\n",
       "    <tr>\n",
       "      <th>2</th>\n",
       "      <td>Alabama</td>\n",
       "      <td>1</td>\n",
       "      <td>Musculoskeletal disorders</td>\n",
       "      <td>-1.56</td>\n",
       "      <td>3.26</td>\n",
       "      <td>3.29</td>\n",
       "      <td>3.42</td>\n",
       "      <td>3.67</td>\n",
       "      <td>3.97</td>\n",
       "      <td>3.74</td>\n",
       "      <td>3.27</td>\n",
       "      <td>3.21</td>\n",
       "      <td>NaN</td>\n",
       "      <td>NaN</td>\n",
       "      <td>NaN</td>\n",
       "    </tr>\n",
       "    <tr>\n",
       "      <th>3</th>\n",
       "      <td>Alabama</td>\n",
       "      <td>1</td>\n",
       "      <td>Diabetes, urogenital, blood, and endocrine dis...</td>\n",
       "      <td>22.44</td>\n",
       "      <td>57.83</td>\n",
       "      <td>58.79</td>\n",
       "      <td>61.83</td>\n",
       "      <td>68.46</td>\n",
       "      <td>74.81</td>\n",
       "      <td>76.62</td>\n",
       "      <td>72.34</td>\n",
       "      <td>70.81</td>\n",
       "      <td>NaN</td>\n",
       "      <td>NaN</td>\n",
       "      <td>NaN</td>\n",
       "    </tr>\n",
       "    <tr>\n",
       "      <th>4</th>\n",
       "      <td>Alabama</td>\n",
       "      <td>1</td>\n",
       "      <td>Digestive diseases</td>\n",
       "      <td>-22.56</td>\n",
       "      <td>22.13</td>\n",
       "      <td>21.51</td>\n",
       "      <td>20.58</td>\n",
       "      <td>20.16</td>\n",
       "      <td>19.56</td>\n",
       "      <td>18.75</td>\n",
       "      <td>17.42</td>\n",
       "      <td>17.13</td>\n",
       "      <td>NaN</td>\n",
       "      <td>NaN</td>\n",
       "      <td>NaN</td>\n",
       "    </tr>\n",
       "  </tbody>\n",
       "</table>\n",
       "</div>"
      ],
      "text/plain": [
       "  Location FIPS                                           Category  \\\n",
       "0  Alabama    1                                 Neonatal disorders   \n",
       "1  Alabama    1                          HIV/AIDS and tuberculosis   \n",
       "2  Alabama    1                          Musculoskeletal disorders   \n",
       "3  Alabama    1  Diabetes, urogenital, blood, and endocrine dis...   \n",
       "4  Alabama    1                                 Digestive diseases   \n",
       "\n",
       "   % Change in Mortality Rate, 1980-201   1980   1985   1990   1995   2000  \\\n",
       "0                                -53.82  11.03   8.51   7.52   6.08   6.21   \n",
       "1                                101.52   1.46   2.15   8.03  14.10   5.47   \n",
       "2                                 -1.56   3.26   3.29   3.42   3.67   3.97   \n",
       "3                                 22.44  57.83  58.79  61.83  68.46  74.81   \n",
       "4                                -22.56  22.13  21.51  20.58  20.16  19.56   \n",
       "\n",
       "    2005   2010   2015  2020  2025  Premium  \n",
       "0   6.32   5.58   5.10   NaN   NaN      NaN  \n",
       "1   4.67   3.35   2.94   NaN   NaN      NaN  \n",
       "2   3.74   3.27   3.21   NaN   NaN      NaN  \n",
       "3  76.62  72.34  70.81   NaN   NaN      NaN  \n",
       "4  18.75  17.42  17.13   NaN   NaN      NaN  "
      ]
     },
     "execution_count": 4,
     "metadata": {},
     "output_type": "execute_result"
    }
   ],
   "source": [
    "for col in ['Location', 'FIPS', 'Category']:\n",
    "    mortality_data[col] = mortality_data[col].astype('category')\n",
    "    \n",
    "mortality_data.head()"
   ]
  },
  {
   "cell_type": "code",
   "execution_count": 5,
   "metadata": {
    "ExecuteTime": {
     "end_time": "2017-11-23T06:46:18.502105Z",
     "start_time": "2017-11-23T06:46:18.429866Z"
    },
    "scrolled": true
   },
   "outputs": [
    {
     "data": {
      "text/html": [
       "<div>\n",
       "<style>\n",
       "    .dataframe thead tr:only-child th {\n",
       "        text-align: right;\n",
       "    }\n",
       "\n",
       "    .dataframe thead th {\n",
       "        text-align: left;\n",
       "    }\n",
       "\n",
       "    .dataframe tbody tr th {\n",
       "        vertical-align: top;\n",
       "    }\n",
       "</style>\n",
       "<table border=\"1\" class=\"dataframe\">\n",
       "  <thead>\n",
       "    <tr style=\"text-align: right;\">\n",
       "      <th></th>\n",
       "      <th>% Change in Mortality Rate, 1980-201</th>\n",
       "      <th>1980</th>\n",
       "      <th>1985</th>\n",
       "      <th>1990</th>\n",
       "      <th>1995</th>\n",
       "      <th>2000</th>\n",
       "      <th>2005</th>\n",
       "      <th>2010</th>\n",
       "      <th>2015</th>\n",
       "      <th>2020</th>\n",
       "      <th>2025</th>\n",
       "      <th>Premium</th>\n",
       "    </tr>\n",
       "  </thead>\n",
       "  <tbody>\n",
       "    <tr>\n",
       "      <th>count</th>\n",
       "      <td>1071.000000</td>\n",
       "      <td>1071.000000</td>\n",
       "      <td>1071.000000</td>\n",
       "      <td>1071.000000</td>\n",
       "      <td>1071.000000</td>\n",
       "      <td>1071.000000</td>\n",
       "      <td>1071.000000</td>\n",
       "      <td>1071.000000</td>\n",
       "      <td>1071.000000</td>\n",
       "      <td>0.0</td>\n",
       "      <td>0.0</td>\n",
       "      <td>0.0</td>\n",
       "    </tr>\n",
       "    <tr>\n",
       "      <th>mean</th>\n",
       "      <td>3.221774</td>\n",
       "      <td>51.768618</td>\n",
       "      <td>49.643473</td>\n",
       "      <td>47.151559</td>\n",
       "      <td>46.727096</td>\n",
       "      <td>44.695472</td>\n",
       "      <td>41.994174</td>\n",
       "      <td>38.807283</td>\n",
       "      <td>38.775752</td>\n",
       "      <td>NaN</td>\n",
       "      <td>NaN</td>\n",
       "      <td>NaN</td>\n",
       "    </tr>\n",
       "    <tr>\n",
       "      <th>std</th>\n",
       "      <td>81.130088</td>\n",
       "      <td>110.532541</td>\n",
       "      <td>103.671452</td>\n",
       "      <td>93.359657</td>\n",
       "      <td>89.372294</td>\n",
       "      <td>83.222280</td>\n",
       "      <td>73.990722</td>\n",
       "      <td>66.370208</td>\n",
       "      <td>66.192817</td>\n",
       "      <td>NaN</td>\n",
       "      <td>NaN</td>\n",
       "      <td>NaN</td>\n",
       "    </tr>\n",
       "    <tr>\n",
       "      <th>min</th>\n",
       "      <td>-88.420000</td>\n",
       "      <td>0.020000</td>\n",
       "      <td>0.020000</td>\n",
       "      <td>0.010000</td>\n",
       "      <td>0.010000</td>\n",
       "      <td>0.010000</td>\n",
       "      <td>0.030000</td>\n",
       "      <td>0.030000</td>\n",
       "      <td>0.020000</td>\n",
       "      <td>NaN</td>\n",
       "      <td>NaN</td>\n",
       "      <td>NaN</td>\n",
       "    </tr>\n",
       "    <tr>\n",
       "      <th>25%</th>\n",
       "      <td>-37.650000</td>\n",
       "      <td>1.980000</td>\n",
       "      <td>2.210000</td>\n",
       "      <td>2.900000</td>\n",
       "      <td>3.280000</td>\n",
       "      <td>3.085000</td>\n",
       "      <td>2.415000</td>\n",
       "      <td>1.680000</td>\n",
       "      <td>1.665000</td>\n",
       "      <td>NaN</td>\n",
       "      <td>NaN</td>\n",
       "      <td>NaN</td>\n",
       "    </tr>\n",
       "    <tr>\n",
       "      <th>50%</th>\n",
       "      <td>-12.390000</td>\n",
       "      <td>16.810000</td>\n",
       "      <td>15.890000</td>\n",
       "      <td>15.640000</td>\n",
       "      <td>15.310000</td>\n",
       "      <td>13.960000</td>\n",
       "      <td>14.280000</td>\n",
       "      <td>14.190000</td>\n",
       "      <td>14.010000</td>\n",
       "      <td>NaN</td>\n",
       "      <td>NaN</td>\n",
       "      <td>NaN</td>\n",
       "    </tr>\n",
       "    <tr>\n",
       "      <th>75%</th>\n",
       "      <td>18.350000</td>\n",
       "      <td>37.465000</td>\n",
       "      <td>38.490000</td>\n",
       "      <td>38.585000</td>\n",
       "      <td>41.400000</td>\n",
       "      <td>40.885000</td>\n",
       "      <td>37.750000</td>\n",
       "      <td>34.420000</td>\n",
       "      <td>33.555000</td>\n",
       "      <td>NaN</td>\n",
       "      <td>NaN</td>\n",
       "      <td>NaN</td>\n",
       "    </tr>\n",
       "    <tr>\n",
       "      <th>max</th>\n",
       "      <td>785.690000</td>\n",
       "      <td>572.810000</td>\n",
       "      <td>539.900000</td>\n",
       "      <td>486.970000</td>\n",
       "      <td>475.260000</td>\n",
       "      <td>448.760000</td>\n",
       "      <td>394.250000</td>\n",
       "      <td>347.030000</td>\n",
       "      <td>347.920000</td>\n",
       "      <td>NaN</td>\n",
       "      <td>NaN</td>\n",
       "      <td>NaN</td>\n",
       "    </tr>\n",
       "  </tbody>\n",
       "</table>\n",
       "</div>"
      ],
      "text/plain": [
       "       % Change in Mortality Rate, 1980-201         1980         1985  \\\n",
       "count                           1071.000000  1071.000000  1071.000000   \n",
       "mean                               3.221774    51.768618    49.643473   \n",
       "std                               81.130088   110.532541   103.671452   \n",
       "min                              -88.420000     0.020000     0.020000   \n",
       "25%                              -37.650000     1.980000     2.210000   \n",
       "50%                              -12.390000    16.810000    15.890000   \n",
       "75%                               18.350000    37.465000    38.490000   \n",
       "max                              785.690000   572.810000   539.900000   \n",
       "\n",
       "              1990         1995         2000         2005         2010  \\\n",
       "count  1071.000000  1071.000000  1071.000000  1071.000000  1071.000000   \n",
       "mean     47.151559    46.727096    44.695472    41.994174    38.807283   \n",
       "std      93.359657    89.372294    83.222280    73.990722    66.370208   \n",
       "min       0.010000     0.010000     0.010000     0.030000     0.030000   \n",
       "25%       2.900000     3.280000     3.085000     2.415000     1.680000   \n",
       "50%      15.640000    15.310000    13.960000    14.280000    14.190000   \n",
       "75%      38.585000    41.400000    40.885000    37.750000    34.420000   \n",
       "max     486.970000   475.260000   448.760000   394.250000   347.030000   \n",
       "\n",
       "              2015  2020  2025  Premium  \n",
       "count  1071.000000   0.0   0.0      0.0  \n",
       "mean     38.775752   NaN   NaN      NaN  \n",
       "std      66.192817   NaN   NaN      NaN  \n",
       "min       0.020000   NaN   NaN      NaN  \n",
       "25%       1.665000   NaN   NaN      NaN  \n",
       "50%      14.010000   NaN   NaN      NaN  \n",
       "75%      33.555000   NaN   NaN      NaN  \n",
       "max     347.920000   NaN   NaN      NaN  "
      ]
     },
     "execution_count": 5,
     "metadata": {},
     "output_type": "execute_result"
    }
   ],
   "source": [
    "mortality_data.describe()"
   ]
  },
  {
   "cell_type": "code",
   "execution_count": 6,
   "metadata": {
    "ExecuteTime": {
     "end_time": "2017-11-23T06:46:18.537528Z",
     "start_time": "2017-11-23T06:46:18.503694Z"
    }
   },
   "outputs": [
    {
     "name": "stdout",
     "output_type": "stream",
     "text": [
      "<class 'pandas.core.frame.DataFrame'>\n",
      "RangeIndex: 1071 entries, 0 to 1070\n",
      "Data columns (total 15 columns):\n",
      "Location                                1071 non-null category\n",
      "FIPS                                    1071 non-null category\n",
      "Category                                1071 non-null category\n",
      "% Change in Mortality Rate, 1980-201    1071 non-null float64\n",
      "1980                                    1071 non-null float64\n",
      "1985                                    1071 non-null float64\n",
      "1990                                    1071 non-null float64\n",
      "1995                                    1071 non-null float64\n",
      "2000                                    1071 non-null float64\n",
      "2005                                    1071 non-null float64\n",
      "2010                                    1071 non-null float64\n",
      "2015                                    1071 non-null float64\n",
      "2020                                    0 non-null float64\n",
      "2025                                    0 non-null float64\n",
      "Premium                                 0 non-null float64\n",
      "dtypes: category(3), float64(12)\n",
      "memory usage: 110.2 KB\n"
     ]
    }
   ],
   "source": [
    "mortality_data.info()"
   ]
  },
  {
   "cell_type": "markdown",
   "metadata": {},
   "source": [
    "## Predicting the columns"
   ]
  },
  {
   "cell_type": "markdown",
   "metadata": {},
   "source": [
    "### Finding the Line of Best Fit or Linear Regression Line "
   ]
  },
  {
   "cell_type": "code",
   "execution_count": 7,
   "metadata": {
    "ExecuteTime": {
     "end_time": "2017-11-23T06:46:18.600321Z",
     "start_time": "2017-11-23T06:46:18.540864Z"
    },
    "collapsed": true
   },
   "outputs": [],
   "source": [
    "def predict_mortality(years,data,x):\n",
    "    years = np.reshape(years,(len(years),1)) # converting to matrix of n X 1\n",
    "    data = np.reshape(data,(len(data),1))\n",
    "    linear_mod = linear_model.LinearRegression() #defining the linear regression model\n",
    "    linear_mod.fit(years,data) #fitting the data points in the model\n",
    "    predicted_mortality =linear_mod.predict(x)\n",
    "    return predicted_mortality[0][0],linear_mod.coef_[0][0] ,linear_mod.intercept_[0]"
   ]
  },
  {
   "cell_type": "markdown",
   "metadata": {},
   "source": [
    "### Predicting the column 2020, 2025 and Premium"
   ]
  },
  {
   "cell_type": "code",
   "execution_count": 8,
   "metadata": {
    "ExecuteTime": {
     "end_time": "2017-11-23T06:46:18.721925Z",
     "start_time": "2017-11-23T06:46:18.604054Z"
    },
    "collapsed": true
   },
   "outputs": [],
   "source": [
    "def pred_row(row):\n",
    "    data = np.array(list(mortality_data.iloc[row, 4: -3]))\n",
    "#     data = np.array([11.03, 8.51, 7.52, 6.08, 6.21, 6.32, 5.58, 5.10])\n",
    "    \n",
    "    years = np.array([1980, 1985, 1990, 1995, 2000, 2005, 2010, 2015])\n",
    "    \n",
    "    predicted_mortality, coefficient, constant = predict_mortality(years,data,2020)\n",
    "    mortality_data.iloc[row, -3] = predicted_mortality\n",
    "    mortality_data.iloc[row, -2] = coefficient * 2025 + constant\n",
    "    \n",
    "    # Criteria for Predicting the premium: \n",
    "        # Positive slope (i.e Mortality rate will increase (🡹)): Increase(🡹) the premium\n",
    "        # Negative slope (i.e Mortality rate will descrease(🡻)): Descrease(🡻) the premium\n",
    "\n",
    "    if coefficient > 0:\n",
    "        mortality_data.iloc[row, -1] = \"Increase\"\n",
    "    else:\n",
    "        mortality_data.iloc[row, -1] = \"Decrease\"\n",
    "\n",
    "    return"
   ]
  },
  {
   "cell_type": "code",
   "execution_count": 9,
   "metadata": {
    "ExecuteTime": {
     "end_time": "2017-11-23T06:46:18.811170Z",
     "start_time": "2017-11-23T06:46:18.729501Z"
    },
    "collapsed": true
   },
   "outputs": [],
   "source": [
    "def predict_all():\n",
    "    for i in range(0, mortality_data.count().Location):\n",
    "#         print (i)\n",
    "        pred_row(i)\n",
    "    return"
   ]
  },
  {
   "cell_type": "code",
   "execution_count": 10,
   "metadata": {
    "ExecuteTime": {
     "end_time": "2017-11-23T06:46:20.780403Z",
     "start_time": "2017-11-23T06:46:18.814683Z"
    },
    "collapsed": true
   },
   "outputs": [],
   "source": [
    "predict_all()\n",
    "\n",
    "# Rounding the colummns to two deccimals.\n",
    "mortality_data = mortality_data.round({'2020': 2, '2025': 2}) "
   ]
  },
  {
   "cell_type": "code",
   "execution_count": 11,
   "metadata": {
    "ExecuteTime": {
     "end_time": "2017-11-23T06:46:20.821764Z",
     "start_time": "2017-11-23T06:46:20.782715Z"
    }
   },
   "outputs": [
    {
     "data": {
      "text/html": [
       "<div>\n",
       "<style>\n",
       "    .dataframe thead tr:only-child th {\n",
       "        text-align: right;\n",
       "    }\n",
       "\n",
       "    .dataframe thead th {\n",
       "        text-align: left;\n",
       "    }\n",
       "\n",
       "    .dataframe tbody tr th {\n",
       "        vertical-align: top;\n",
       "    }\n",
       "</style>\n",
       "<table border=\"1\" class=\"dataframe\">\n",
       "  <thead>\n",
       "    <tr style=\"text-align: right;\">\n",
       "      <th></th>\n",
       "      <th>Location</th>\n",
       "      <th>FIPS</th>\n",
       "      <th>Category</th>\n",
       "      <th>% Change in Mortality Rate, 1980-201</th>\n",
       "      <th>1980</th>\n",
       "      <th>1985</th>\n",
       "      <th>1990</th>\n",
       "      <th>1995</th>\n",
       "      <th>2000</th>\n",
       "      <th>2005</th>\n",
       "      <th>2010</th>\n",
       "      <th>2015</th>\n",
       "      <th>2020</th>\n",
       "      <th>2025</th>\n",
       "      <th>Premium</th>\n",
       "    </tr>\n",
       "  </thead>\n",
       "  <tbody>\n",
       "    <tr>\n",
       "      <th>0</th>\n",
       "      <td>Alabama</td>\n",
       "      <td>1</td>\n",
       "      <td>Neonatal disorders</td>\n",
       "      <td>-53.82</td>\n",
       "      <td>11.03</td>\n",
       "      <td>8.51</td>\n",
       "      <td>7.52</td>\n",
       "      <td>6.08</td>\n",
       "      <td>6.21</td>\n",
       "      <td>6.32</td>\n",
       "      <td>5.58</td>\n",
       "      <td>5.10</td>\n",
       "      <td>3.85</td>\n",
       "      <td>3.14</td>\n",
       "      <td>Decrease</td>\n",
       "    </tr>\n",
       "    <tr>\n",
       "      <th>1</th>\n",
       "      <td>Alabama</td>\n",
       "      <td>1</td>\n",
       "      <td>HIV/AIDS and tuberculosis</td>\n",
       "      <td>101.52</td>\n",
       "      <td>1.46</td>\n",
       "      <td>2.15</td>\n",
       "      <td>8.03</td>\n",
       "      <td>14.10</td>\n",
       "      <td>5.47</td>\n",
       "      <td>4.67</td>\n",
       "      <td>3.35</td>\n",
       "      <td>2.94</td>\n",
       "      <td>5.15</td>\n",
       "      <td>5.12</td>\n",
       "      <td>Decrease</td>\n",
       "    </tr>\n",
       "    <tr>\n",
       "      <th>2</th>\n",
       "      <td>Alabama</td>\n",
       "      <td>1</td>\n",
       "      <td>Musculoskeletal disorders</td>\n",
       "      <td>-1.56</td>\n",
       "      <td>3.26</td>\n",
       "      <td>3.29</td>\n",
       "      <td>3.42</td>\n",
       "      <td>3.67</td>\n",
       "      <td>3.97</td>\n",
       "      <td>3.74</td>\n",
       "      <td>3.27</td>\n",
       "      <td>3.21</td>\n",
       "      <td>3.52</td>\n",
       "      <td>3.53</td>\n",
       "      <td>Increase</td>\n",
       "    </tr>\n",
       "    <tr>\n",
       "      <th>3</th>\n",
       "      <td>Alabama</td>\n",
       "      <td>1</td>\n",
       "      <td>Diabetes, urogenital, blood, and endocrine dis...</td>\n",
       "      <td>22.44</td>\n",
       "      <td>57.83</td>\n",
       "      <td>58.79</td>\n",
       "      <td>61.83</td>\n",
       "      <td>68.46</td>\n",
       "      <td>74.81</td>\n",
       "      <td>76.62</td>\n",
       "      <td>72.34</td>\n",
       "      <td>70.81</td>\n",
       "      <td>78.90</td>\n",
       "      <td>81.39</td>\n",
       "      <td>Increase</td>\n",
       "    </tr>\n",
       "    <tr>\n",
       "      <th>4</th>\n",
       "      <td>Alabama</td>\n",
       "      <td>1</td>\n",
       "      <td>Digestive diseases</td>\n",
       "      <td>-22.56</td>\n",
       "      <td>22.13</td>\n",
       "      <td>21.51</td>\n",
       "      <td>20.58</td>\n",
       "      <td>20.16</td>\n",
       "      <td>19.56</td>\n",
       "      <td>18.75</td>\n",
       "      <td>17.42</td>\n",
       "      <td>17.13</td>\n",
       "      <td>16.36</td>\n",
       "      <td>15.63</td>\n",
       "      <td>Decrease</td>\n",
       "    </tr>\n",
       "  </tbody>\n",
       "</table>\n",
       "</div>"
      ],
      "text/plain": [
       "  Location FIPS                                           Category  \\\n",
       "0  Alabama    1                                 Neonatal disorders   \n",
       "1  Alabama    1                          HIV/AIDS and tuberculosis   \n",
       "2  Alabama    1                          Musculoskeletal disorders   \n",
       "3  Alabama    1  Diabetes, urogenital, blood, and endocrine dis...   \n",
       "4  Alabama    1                                 Digestive diseases   \n",
       "\n",
       "   % Change in Mortality Rate, 1980-201   1980   1985   1990   1995   2000  \\\n",
       "0                                -53.82  11.03   8.51   7.52   6.08   6.21   \n",
       "1                                101.52   1.46   2.15   8.03  14.10   5.47   \n",
       "2                                 -1.56   3.26   3.29   3.42   3.67   3.97   \n",
       "3                                 22.44  57.83  58.79  61.83  68.46  74.81   \n",
       "4                                -22.56  22.13  21.51  20.58  20.16  19.56   \n",
       "\n",
       "    2005   2010   2015   2020   2025   Premium  \n",
       "0   6.32   5.58   5.10   3.85   3.14  Decrease  \n",
       "1   4.67   3.35   2.94   5.15   5.12  Decrease  \n",
       "2   3.74   3.27   3.21   3.52   3.53  Increase  \n",
       "3  76.62  72.34  70.81  78.90  81.39  Increase  \n",
       "4  18.75  17.42  17.13  16.36  15.63  Decrease  "
      ]
     },
     "execution_count": 11,
     "metadata": {},
     "output_type": "execute_result"
    }
   ],
   "source": [
    "mortality_data.head()"
   ]
  },
  {
   "cell_type": "markdown",
   "metadata": {
    "ExecuteTime": {
     "end_time": "2017-11-20T22:03:35.511278Z",
     "start_time": "2017-11-20T22:03:35.507589Z"
    }
   },
   "source": [
    "### Save the predicted dataframe as CSV file"
   ]
  },
  {
   "cell_type": "code",
   "execution_count": 12,
   "metadata": {
    "ExecuteTime": {
     "end_time": "2017-11-23T06:46:20.919464Z",
     "start_time": "2017-11-23T06:46:20.823481Z"
    },
    "collapsed": true
   },
   "outputs": [],
   "source": [
    "mortality_data.to_csv(\"../US-insuarance-premium-predictor/Data/predicted_mort.csv\", encoding='utf-8')"
   ]
  },
  {
   "cell_type": "markdown",
   "metadata": {},
   "source": [
    "### Plotting the Mortality rates (Past  + Predicted) along with the Line of Best Fit"
   ]
  },
  {
   "cell_type": "code",
   "execution_count": 13,
   "metadata": {
    "ExecuteTime": {
     "end_time": "2017-11-23T06:46:20.996321Z",
     "start_time": "2017-11-23T06:46:20.921181Z"
    },
    "code_folding": [],
    "collapsed": true,
    "scrolled": true
   },
   "outputs": [],
   "source": [
    "linear_mod = linear_model.LinearRegression() #defining the linear regression model\n",
    "\n",
    "def show_plot(row):\n",
    "    data = np.array(list(mortality_data.iloc[row, 4:-1]))\n",
    "    years = np.array([1980, 1985, 1990, 1995, 2000, 2005, 2010, 2015, 2020, 2025])\n",
    "\n",
    "    years = np.reshape(years,(len(years),1)) # converting to matrix of n X 1\n",
    "    data = np.reshape(data,(len(data),1))\n",
    "\n",
    "    plt.scatter(years,data,color='red') #plotting the initial datapoints \n",
    "\n",
    "    linear_mod.fit(years,data) #fitting the data points in the model\n",
    "\n",
    "    plt.plot(years, linear_mod.predict(years),color='blue',linewidth=3) #plotting the line made by linear regression\n",
    "\n",
    "    plt.xlabel('Years')\n",
    "    plt.ylabel('Mortality Rate')\n",
    "\n",
    "    plt.xticks(years)\n",
    "    \n",
    "    plt.title(mortality_data.iloc[row, 0] + \": \" + 'Morality caused by- ' + mortality_data.iloc[row, 2])\n",
    "    \n",
    "    plt.savefig('../US-insuarance-premium-predictor/Images/predicted_mort_plot.jpg', dpi=100)\n",
    "    \n",
    "    plt.show()\n",
    "\n",
    "    return"
   ]
  },
  {
   "cell_type": "code",
   "execution_count": 14,
   "metadata": {
    "ExecuteTime": {
     "end_time": "2017-11-23T06:46:21.420944Z",
     "start_time": "2017-11-23T06:46:20.999566Z"
    },
    "scrolled": false
   },
   "outputs": [
    {
     "data": {
      "image/png": "[encoded data removed]",
      "text/plain": [
       "<matplotlib.figure.Figure at 0x7f82c03a85d0>"
      ]
     },
     "metadata": {},
     "output_type": "display_data"
    }
   ],
   "source": [
    "show_plot(0)"
   ]
  },
  {
   "cell_type": "markdown",
   "metadata": {},
   "source": [
    "* Here we can <font color=blue>*__reduce__*</font> the premium for <font color=blue>*__competitive pricing to attract more consumers.__*</font>"
   ]
  },
  {
   "cell_type": "code",
   "execution_count": 15,
   "metadata": {
    "ExecuteTime": {
     "end_time": "2017-11-23T06:46:21.832337Z",
     "start_time": "2017-11-23T06:46:21.422596Z"
    },
    "scrolled": false
   },
   "outputs": [
    {
     "data": {
      "image/png": "[encoded data removed]",
      "text/plain": [
       "<matplotlib.figure.Figure at 0x7f82be12af90>"
      ]
     },
     "metadata": {},
     "output_type": "display_data"
    }
   ],
   "source": [
    "show_plot(1044)"
   ]
  },
  {
   "cell_type": "markdown",
   "metadata": {},
   "source": [
    "* Here we should <font color=red> *__increase__* </font> the premium to <font color=red> *__reduce the risk.__* </font>"
   ]
  },
  {
   "cell_type": "markdown",
   "metadata": {},
   "source": [
    "## Future work:\n",
    "#### Can use better algorithms like ensemble of multi algorithms, Xgboost etc.\n",
    "#### If current Premium data is provided we can even grt the most optimal premium trends for the future"
   ]
  }
 ],
 "metadata": {
  "kernelspec": {
   "display_name": "Python 2",
   "language": "python",
   "name": "python2"
  },
  "language_info": {
   "codemirror_mode": {
    "name": "ipython",
    "version": 2
   },
   "file_extension": ".py",
   "mimetype": "text/x-python",
   "name": "python",
   "nbconvert_exporter": "python",
   "pygments_lexer": "ipython2",
   "version": "2.7.13"
  },
  "toc": {
   "colors": {
    "hover_highlight": "#DAA520",
    "navigate_num": "#000000",
    "navigate_text": "#333333",
    "running_highlight": "#FF0000",
    "selected_highlight": "#FFD700",
    "sidebar_border": "#EEEEEE",
    "wrapper_background": "#FFFFFF"
   },
   "moveMenuLeft": true,
   "nav_menu": {
    "height": "12px",
    "width": "252px"
   },
   "navigate_menu": true,
   "number_sections": true,
   "sideBar": true,
   "threshold": 4,
   "toc_cell": false,
   "toc_section_display": "block",
   "toc_window_display": false,
   "widenNotebook": false
  },
  "varInspector": {
   "cols": {
    "lenName": 16,
    "lenType": 16,
    "lenVar": 40
   },
   "kernels_config": {
    "python": {
     "delete_cmd_postfix": "",
     "delete_cmd_prefix": "del ",
     "library": "var_list.py",
     "varRefreshCmd": "print(var_dic_list())"
    },
    "r": {
     "delete_cmd_postfix": ") ",
     "delete_cmd_prefix": "rm(",
     "library": "var_list.r",
     "varRefreshCmd": "cat(var_dic_list()) "
    }
   },
   "types_to_exclude": [
    "module",
    "function",
    "builtin_function_or_method",
    "instance",
    "_Feature"
   ],
   "window_display": false
  },
  "widgets": {
   "state": {},
   "version": "1.1.2"
  }
 },
 "nbformat": 4,
 "nbformat_minor": 2
}
